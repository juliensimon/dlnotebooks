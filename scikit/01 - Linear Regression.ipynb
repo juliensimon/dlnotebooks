{
 "cells": [
  {
   "cell_type": "code",
   "execution_count": null,
   "metadata": {},
   "outputs": [],
   "source": [
    "import matplotlib.pyplot as plt\n",
    "import numpy as np\n",
    "from sklearn import linear_model\n",
    "from sklearn.metrics import mean_squared_error, r2_score"
   ]
  },
  {
   "cell_type": "code",
   "execution_count": null,
   "metadata": {},
   "outputs": [],
   "source": [
    "X_train = np.array([1, 2, 3, 4, 5, 6, 7, 8, 9, 10])\n",
    "#X_train = np.array([[1,-1], [2,-2], [3,-3], [4,-4], [5,-5], [6,-6], [7,-7], [8,-8], [9,-9], [10,-10]])\n",
    "\n",
    "Y_train = np.array([1, 2.5, 2, 3, 5, 4, 5.5, 7, 6, 8])\n",
    "\n",
    "# Transform samples into 10-line, 1-column matrix\n",
    "X_train = X_train.reshape((-1, 1))"
   ]
  },
  {
   "cell_type": "code",
   "execution_count": null,
   "metadata": {},
   "outputs": [],
   "source": [
    "# Create linear regression object\n",
    "\n",
    "# http://scikit-learn.org/stable/modules/generated/sklearn.linear_model.LinearRegression.html \n",
    "#regr = linear_model.LinearRegression()\n",
    "\n",
    "# http://scikit-learn.org/stable/modules/generated/sklearn.linear_model.SGDRegressor.html\n",
    "regr = linear_model.SGDRegressor(max_iter=1000, tol=1e-3)"
   ]
  },
  {
   "cell_type": "code",
   "execution_count": null,
   "metadata": {},
   "outputs": [],
   "source": [
    "# Train the model\n",
    "regr.fit(X_train, Y_train)\n",
    "\n",
    "# Save model for future use\n",
    "from sklearn.externals import joblib\n",
    "joblib.dump(regr, 'linearregressionmodel.pkl')"
   ]
  },
  {
   "cell_type": "code",
   "execution_count": null,
   "metadata": {},
   "outputs": [],
   "source": [
    "# Make predictions\n",
    "Y_pred = regr.predict(X_train)"
   ]
  },
  {
   "cell_type": "code",
   "execution_count": null,
   "metadata": {},
   "outputs": [],
   "source": [
    "# Print coefficient and intercept\n",
    "print(\"Coefficient: %s \" % regr.coef_)\n",
    "print(\"Intercept: %s \" % regr.intercept_)\n",
    "\n",
    "# Print variance and RMSE\n",
    "print(\"Variance: %s \" % r2_score(Y_train, Y_pred))\n",
    "print(\"RMSE: %s \" % mean_squared_error(Y_train, Y_pred))"
   ]
  }
 ],
 "metadata": {
  "kernelspec": {
   "display_name": "Python 2",
   "language": "python",
   "name": "python2"
  },
  "language_info": {
   "codemirror_mode": {
    "name": "ipython",
    "version": 2
   },
   "file_extension": ".py",
   "mimetype": "text/x-python",
   "name": "python",
   "nbconvert_exporter": "python",
   "pygments_lexer": "ipython2",
   "version": "2.7.10"
  }
 },
 "nbformat": 4,
 "nbformat_minor": 2
}
