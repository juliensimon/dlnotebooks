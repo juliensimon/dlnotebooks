{
 "cells": [
  {
   "cell_type": "code",
   "execution_count": null,
   "metadata": {},
   "outputs": [],
   "source": [
    "import tensorflow as tf"
   ]
  },
  {
   "cell_type": "code",
   "execution_count": null,
   "metadata": {},
   "outputs": [],
   "source": [
    "train, test = tf.keras.datasets.mnist.load_data()\n",
    "mnist_images, mnist_labels = train\n",
    "mnist_test_images, mnist_test_labels = test\n",
    "\n",
    "print(mnist_images.shape)\n",
    "print(mnist_test_images.shape)\n",
    "\n",
    "mnist_images = mnist_images.flatten().reshape(60000,784)\n",
    "mnist_test_images = mnist_test_images.flatten().reshape(10000,784)\n",
    "\n",
    "mnist_images = mnist_images / 255\n",
    "mnist_test_images = mnist_test_images / 255"
   ]
  },
  {
   "cell_type": "code",
   "execution_count": null,
   "metadata": {},
   "outputs": [],
   "source": [
    "from sklearn.decomposition import PCA\n",
    "\n",
    "pca = PCA(n_components=64)\n",
    "mnist_images_pca = pca.fit(mnist_images).transform(mnist_images)\n",
    "mnist_test_images_pca = pca.transform(mnist_test_images)\n",
    "\n",
    "print(mnist_images_pca.shape)\n",
    "print('explained variance ratio: %s' % str(pca.explained_variance_ratio_))"
   ]
  },
  {
   "cell_type": "code",
   "execution_count": null,
   "metadata": {},
   "outputs": [],
   "source": [
    "from sklearn.linear_model import LogisticRegression\n",
    "\n",
    "logisticRegr = LogisticRegression(solver='lbfgs', multi_class='multinomial', \n",
    "                                  verbose=1, max_iter=500)\n",
    "logisticRegr.fit(mnist_images_pca, mnist_labels)"
   ]
  },
  {
   "cell_type": "code",
   "execution_count": null,
   "metadata": {},
   "outputs": [],
   "source": [
    "predictions = logisticRegr.predict(mnist_test_images_pca)\n",
    "score = logisticRegr.score(mnist_test_images_pca,mnist_test_labels)\n",
    "print(score)"
   ]
  },
  {
   "cell_type": "code",
   "execution_count": null,
   "metadata": {},
   "outputs": [],
   "source": []
  }
 ],
 "metadata": {
  "kernelspec": {
   "display_name": "Python 2",
   "language": "python",
   "name": "python2"
  },
  "language_info": {
   "codemirror_mode": {
    "name": "ipython",
    "version": 2
   },
   "file_extension": ".py",
   "mimetype": "text/x-python",
   "name": "python",
   "nbconvert_exporter": "python",
   "pygments_lexer": "ipython2",
   "version": "2.7.10"
  }
 },
 "nbformat": 4,
 "nbformat_minor": 2
}
