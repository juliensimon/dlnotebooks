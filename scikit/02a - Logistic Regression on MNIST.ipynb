{
 "cells": [
  {
   "cell_type": "code",
   "execution_count": null,
   "metadata": {},
   "outputs": [],
   "source": [
    "import numpy as np\n",
    "import tensorflow as tf\n",
    "import matplotlib.pyplot as plt"
   ]
  },
  {
   "cell_type": "code",
   "execution_count": null,
   "metadata": {},
   "outputs": [],
   "source": [
    "train, test = tf.keras.datasets.mnist.load_data()\n",
    "mnist_images, mnist_labels = train\n",
    "mnist_test_images, mnist_test_labels = test\n",
    "\n",
    "print(mnist_images.shape)\n",
    "print(mnist_test_images.shape)\n",
    "\n",
    "mnist_images = mnist_images.flatten().reshape(60000,784)\n",
    "mnist_test_images = mnist_test_images.flatten().reshape(10000,784)\n",
    "\n",
    "print(mnist_images.shape)\n",
    "print(mnist_test_images.shape)"
   ]
  },
  {
   "cell_type": "code",
   "execution_count": null,
   "metadata": {},
   "outputs": [],
   "source": [
    "plt.figure(figsize=(20,4))\n",
    "for index, (image, label) in enumerate(zip(mnist_images[0:5], mnist_labels[0:5])):\n",
    "    plt.subplot(1, 5, index + 1)\n",
    "    plt.imshow(np.reshape(image, (28,28)), cmap=plt.cm.gray)\n",
    "    plt.title('Training: %s\\n' % label, fontsize = 20)\n",
    "plt.show()"
   ]
  },
  {
   "cell_type": "code",
   "execution_count": null,
   "metadata": {},
   "outputs": [],
   "source": [
    "from sklearn.linear_model import LogisticRegression\n",
    "\n",
    "# http://scikit-learn.org/stable/modules/generated/sklearn.linear_model.LogisticRegression.html\n",
    "logisticRegr = LogisticRegression(solver='lbfgs', multi_class='multinomial',\n",
    "                                  verbose=1, max_iter=100)"
   ]
  },
  {
   "cell_type": "code",
   "execution_count": null,
   "metadata": {},
   "outputs": [],
   "source": [
    "logisticRegr.fit(mnist_images, mnist_labels)"
   ]
  },
  {
   "cell_type": "code",
   "execution_count": null,
   "metadata": {},
   "outputs": [],
   "source": [
    "predictions = logisticRegr.predict(mnist_test_images)\n",
    "score = logisticRegr.score(mnist_test_images, mnist_test_labels)\n",
    "print(score)"
   ]
  },
  {
   "cell_type": "code",
   "execution_count": null,
   "metadata": {},
   "outputs": [],
   "source": [
    "# Display metrics\n",
    "# Precision measures the impact of false positives: TP/(TP+FP)\n",
    "# Recall measures the impact of false negatives : TP/(TP+FN)\n",
    "# F1 is the weighted average of precision and recall: (2*Recall*Precision)/(Recall+Precision)\n",
    "\n",
    "from sklearn import metrics\n",
    "print(metrics.classification_report(mnist_test_labels, predictions))"
   ]
  },
  {
   "cell_type": "code",
   "execution_count": null,
   "metadata": {},
   "outputs": [],
   "source": [
    "# Display confusion matrix\n",
    "print(metrics.confusion_matrix(mnist_test_labels, predictions))"
   ]
  },
  {
   "cell_type": "code",
   "execution_count": null,
   "metadata": {},
   "outputs": [],
   "source": [
    "# Show some mispredicted samples\n",
    "index = 0\n",
    "misclassifiedIndexes = []\n",
    "misclassifiedLabels = []\n",
    "for label, predict in zip(mnist_test_labels, predictions):\n",
    "    if label != predict:\n",
    "        misclassifiedIndexes.append(index)\n",
    "        misclassifiedLabels.append(predict)\n",
    "    index +=1\n",
    "\n",
    "plt.figure(figsize=(20,4))\n",
    "for plotIndex, badIndex in enumerate(misclassifiedIndexes[0:5]):\n",
    "    plt.subplot(1, 5, plotIndex + 1)\n",
    "    plt.imshow(np.reshape(mnist_test_images[badIndex], (28,28)), cmap=plt.cm.gray)\n",
    "    plt.title('Prediction: %s\\n' % misclassifiedLabels[badIndex], fontsize = 20)\n",
    "plt.show()"
   ]
  },
  {
   "cell_type": "code",
   "execution_count": null,
   "metadata": {},
   "outputs": [],
   "source": []
  }
 ],
 "metadata": {
  "kernelspec": {
   "display_name": "Python 2",
   "language": "python",
   "name": "python2"
  },
  "language_info": {
   "codemirror_mode": {
    "name": "ipython",
    "version": 2
   },
   "file_extension": ".py",
   "mimetype": "text/x-python",
   "name": "python",
   "nbconvert_exporter": "python",
   "pygments_lexer": "ipython2",
   "version": "2.7.10"
  }
 },
 "nbformat": 4,
 "nbformat_minor": 2
}
