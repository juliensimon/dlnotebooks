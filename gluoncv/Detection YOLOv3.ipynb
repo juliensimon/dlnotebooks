{
 "cells": [
  {
   "cell_type": "markdown",
   "metadata": {},
   "source": [
    "# Detection with a pre-trained YOLO model"
   ]
  },
  {
   "cell_type": "code",
   "execution_count": null,
   "metadata": {},
   "outputs": [],
   "source": [
    "from mxnet import cpu, image\n",
    "from gluoncv import model_zoo, data, utils\n",
    "import numpy as np\n",
    "\n",
    "from matplotlib import pyplot as plt\n",
    "%matplotlib inline\n",
    "\n",
    "context = cpu(0)"
   ]
  },
  {
   "cell_type": "markdown",
   "metadata": {},
   "source": [
    "## Load a pre-trained YOLO v3 model"
   ]
  },
  {
   "cell_type": "code",
   "execution_count": null,
   "metadata": {},
   "outputs": [],
   "source": [
    "net = model_zoo.get_model('yolo3_darknet53_voc', ctx=context, pretrained=True)\n",
    "print(net.classes)"
   ]
  },
  {
   "cell_type": "markdown",
   "metadata": {},
   "source": [
    "## Download and pre-preprocess image"
   ]
  },
  {
   "cell_type": "code",
   "execution_count": null,
   "metadata": {},
   "outputs": [],
   "source": [
    "url = 'https://www.dressagechien.net/wp-content/uploads/2017/11/chien-et-velo.jpg'\n",
    "filename = 'image.jpg'\n",
    "im_fname = utils.download(url, filename, overwrite='True')\n",
    "\n",
    "x, img = data.transforms.presets.yolo.load_test(im_fname, short=512)\n",
    "x = x.as_in_context(context)\n",
    "print(x.shape)"
   ]
  },
  {
   "cell_type": "code",
   "execution_count": null,
   "metadata": {},
   "outputs": [],
   "source": [
    "img = image.imread(filename)\n",
    "plt.imshow(img.asnumpy())"
   ]
  },
  {
   "cell_type": "markdown",
   "metadata": {},
   "source": [
    "## Inference and display\n",
    "\n",
    "The forward function will return all detected bounding boxes, and the corresponding predicted class IDs and confidence scores. Their shapes are `(batch_size, num_bboxes, 1)`, `(batch_size, num_bboxes, 1)`, and `(batch_size, num_bboxes, 4)`, respectively.\n",
    "\n",
    "We can use `gluoncv.utils.viz.plot_bbox` to visualize theresults. We slice the results for the first image and feed them into `plot_bbox`:"
   ]
  },
  {
   "cell_type": "code",
   "execution_count": null,
   "metadata": {},
   "outputs": [],
   "source": [
    "class_IDs, scores, bounding_boxes = net(x)"
   ]
  },
  {
   "cell_type": "code",
   "execution_count": null,
   "metadata": {},
   "outputs": [],
   "source": [
    "# Flatten and print scores\n",
    "score_list = scores[0].asnumpy().reshape(-1)\n",
    "print(score_list[np.where (score_list != -1)])\n",
    "\n",
    "# Flatten and print classes\n",
    "class_list = class_IDs[0].asnumpy().reshape(-1)\n",
    "print(class_list[np.where (class_list != -1)])"
   ]
  },
  {
   "cell_type": "code",
   "execution_count": null,
   "metadata": {},
   "outputs": [],
   "source": [
    "ax = utils.viz.plot_bbox(img, bounding_boxes[0], scores[0], class_IDs[0], class_names=net.classes, thresh=0.9)\n",
    "plt.show()"
   ]
  },
  {
   "cell_type": "code",
   "execution_count": null,
   "metadata": {},
   "outputs": [],
   "source": []
  },
  {
   "cell_type": "code",
   "execution_count": null,
   "metadata": {},
   "outputs": [],
   "source": []
  }
 ],
 "metadata": {
  "kernelspec": {
   "display_name": "conda_mxnet_p36",
   "language": "python",
   "name": "conda_mxnet_p36"
  },
  "language_info": {
   "codemirror_mode": {
    "name": "ipython",
    "version": 3
   },
   "file_extension": ".py",
   "mimetype": "text/x-python",
   "name": "python",
   "nbconvert_exporter": "python",
   "pygments_lexer": "ipython3",
   "version": "3.6.5"
  }
 },
 "nbformat": 4,
 "nbformat_minor": 2
}
